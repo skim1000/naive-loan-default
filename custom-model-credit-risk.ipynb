{
 "cells": [
  {
   "cell_type": "code",
   "execution_count": 1,
   "metadata": {},
   "outputs": [],
   "source": [
    "import pandas as pd\n",
    "from numpy import mean\n",
    "from numpy import std\n",
    "from sklearn.compose import make_column_selector as selector\n",
    "from sklearn.preprocessing import OneHotEncoder, StandardScaler\n",
    "from sklearn.compose import ColumnTransformer\n",
    "from sklearn.pipeline import make_pipeline\n",
    "from sklearn.ensemble import GradientBoostingClassifier\n",
    "from sklearn import set_config\n",
    "from sklearn.model_selection import train_test_split\n",
    "from sklearn.model_selection import cross_validate\n",
    "from imblearn.over_sampling import SMOTE\n",
    "from imblearn.pipeline import Pipeline as imbpipeline\n",
    "import pickle"
   ]
  },
  {
   "cell_type": "code",
   "execution_count": 2,
   "metadata": {},
   "outputs": [],
   "source": [
    "raw_data = pd.read_csv(\"/Users/stephaniekim/downloads/TrainingData.csv\")\n",
    "target_name = \"Risk_Flag\"\n",
    "target = raw_data[target_name]\n",
    "data = raw_data.drop(columns=[\"Id\", target_name])"
   ]
  },
  {
   "cell_type": "code",
   "execution_count": 3,
   "metadata": {},
   "outputs": [],
   "source": [
    "# Column selectors for transformer\n",
    "numerical_cs = selector(dtype_exclude=object)\n",
    "categorical_cs = selector(dtype_include=object)\n",
    "num_col = numerical_cs(data)\n",
    "cat_col = categorical_cs(data)"
   ]
  },
  {
   "cell_type": "code",
   "execution_count": 4,
   "metadata": {},
   "outputs": [],
   "source": [
    "cat_preproc = OneHotEncoder(handle_unknown=\"ignore\")\n",
    "num_preproc = StandardScaler()\n",
    "preprocessor = ColumnTransformer([\n",
    "    ('one-hot-encoder', cat_preproc, cat_col),\n",
    "    ('standard-scaler', num_preproc, num_col)])\n",
    "\n",
    "# TODO: output to file OR see if I can add to custom model package for pre-processing step\n",
    "holdout_data = pd.read_csv(\"/Users/stephaniekim/downloads/TestData.csv\")\n",
    "# holdout_data = holdout_data.drop(columns=[\"ID\"])\n",
    "# new_data = preprocessor.fit_transform(holdout_data)"
   ]
  },
  {
   "cell_type": "code",
   "execution_count": 5,
   "metadata": {},
   "outputs": [
    {
     "data": {
      "text/html": [
       "<style>#sk-18695ef4-6f4d-46f7-b000-abd35d7767f1 {color: black;background-color: white;}#sk-18695ef4-6f4d-46f7-b000-abd35d7767f1 pre{padding: 0;}#sk-18695ef4-6f4d-46f7-b000-abd35d7767f1 div.sk-toggleable {background-color: white;}#sk-18695ef4-6f4d-46f7-b000-abd35d7767f1 label.sk-toggleable__label {cursor: pointer;display: block;width: 100%;margin-bottom: 0;padding: 0.2em 0.3em;box-sizing: border-box;text-align: center;}#sk-18695ef4-6f4d-46f7-b000-abd35d7767f1 div.sk-toggleable__content {max-height: 0;max-width: 0;overflow: hidden;text-align: left;background-color: #f0f8ff;}#sk-18695ef4-6f4d-46f7-b000-abd35d7767f1 div.sk-toggleable__content pre {margin: 0.2em;color: black;border-radius: 0.25em;background-color: #f0f8ff;}#sk-18695ef4-6f4d-46f7-b000-abd35d7767f1 input.sk-toggleable__control:checked~div.sk-toggleable__content {max-height: 200px;max-width: 100%;overflow: auto;}#sk-18695ef4-6f4d-46f7-b000-abd35d7767f1 div.sk-estimator input.sk-toggleable__control:checked~label.sk-toggleable__label {background-color: #d4ebff;}#sk-18695ef4-6f4d-46f7-b000-abd35d7767f1 div.sk-label input.sk-toggleable__control:checked~label.sk-toggleable__label {background-color: #d4ebff;}#sk-18695ef4-6f4d-46f7-b000-abd35d7767f1 input.sk-hidden--visually {border: 0;clip: rect(1px 1px 1px 1px);clip: rect(1px, 1px, 1px, 1px);height: 1px;margin: -1px;overflow: hidden;padding: 0;position: absolute;width: 1px;}#sk-18695ef4-6f4d-46f7-b000-abd35d7767f1 div.sk-estimator {font-family: monospace;background-color: #f0f8ff;margin: 0.25em 0.25em;border: 1px dotted black;border-radius: 0.25em;box-sizing: border-box;}#sk-18695ef4-6f4d-46f7-b000-abd35d7767f1 div.sk-estimator:hover {background-color: #d4ebff;}#sk-18695ef4-6f4d-46f7-b000-abd35d7767f1 div.sk-parallel-item::after {content: \"\";width: 100%;border-bottom: 1px solid gray;flex-grow: 1;}#sk-18695ef4-6f4d-46f7-b000-abd35d7767f1 div.sk-label:hover label.sk-toggleable__label {background-color: #d4ebff;}#sk-18695ef4-6f4d-46f7-b000-abd35d7767f1 div.sk-serial::before {content: \"\";position: absolute;border-left: 1px solid gray;box-sizing: border-box;top: 2em;bottom: 0;left: 50%;}#sk-18695ef4-6f4d-46f7-b000-abd35d7767f1 div.sk-serial {display: flex;flex-direction: column;align-items: center;background-color: white;}#sk-18695ef4-6f4d-46f7-b000-abd35d7767f1 div.sk-item {z-index: 1;}#sk-18695ef4-6f4d-46f7-b000-abd35d7767f1 div.sk-parallel {display: flex;align-items: stretch;justify-content: center;background-color: white;}#sk-18695ef4-6f4d-46f7-b000-abd35d7767f1 div.sk-parallel-item {display: flex;flex-direction: column;position: relative;background-color: white;}#sk-18695ef4-6f4d-46f7-b000-abd35d7767f1 div.sk-parallel-item:first-child::after {align-self: flex-end;width: 50%;}#sk-18695ef4-6f4d-46f7-b000-abd35d7767f1 div.sk-parallel-item:last-child::after {align-self: flex-start;width: 50%;}#sk-18695ef4-6f4d-46f7-b000-abd35d7767f1 div.sk-parallel-item:only-child::after {width: 0;}#sk-18695ef4-6f4d-46f7-b000-abd35d7767f1 div.sk-dashed-wrapped {border: 1px dashed gray;margin: 0.2em;box-sizing: border-box;padding-bottom: 0.1em;background-color: white;position: relative;}#sk-18695ef4-6f4d-46f7-b000-abd35d7767f1 div.sk-label label {font-family: monospace;font-weight: bold;background-color: white;display: inline-block;line-height: 1.2em;}#sk-18695ef4-6f4d-46f7-b000-abd35d7767f1 div.sk-label-container {position: relative;z-index: 2;text-align: center;}#sk-18695ef4-6f4d-46f7-b000-abd35d7767f1 div.sk-container {display: inline-block;position: relative;}</style><div id=\"sk-18695ef4-6f4d-46f7-b000-abd35d7767f1\" class\"sk-top-container\"><div class=\"sk-container\"><div class=\"sk-item sk-dashed-wrapped\"><div class=\"sk-label-container\"><div class=\"sk-label sk-toggleable\"><input class=\"sk-toggleable__control sk-hidden--visually\" id=\"9ff5b74e-877b-4373-91a9-ccda30605cf3\" type=\"checkbox\" ><label class=\"sk-toggleable__label\" for=\"9ff5b74e-877b-4373-91a9-ccda30605cf3\">Pipeline</label><div class=\"sk-toggleable__content\"><pre>Pipeline(steps=[('columntransformer',\n",
       "                 ColumnTransformer(transformers=[('one-hot-encoder',\n",
       "                                                  OneHotEncoder(handle_unknown='ignore'),\n",
       "                                                  ['Married/Single',\n",
       "                                                   'House_Ownership',\n",
       "                                                   'Car_Ownership',\n",
       "                                                   'Profession', 'CITY',\n",
       "                                                   'STATE']),\n",
       "                                                 ('standard-scaler',\n",
       "                                                  StandardScaler(),\n",
       "                                                  ['Income', 'Age',\n",
       "                                                   'Experience',\n",
       "                                                   'CURRENT_JOB_YRS',\n",
       "                                                   'CURRENT_HOUSE_YRS'])])),\n",
       "                ('gradientboostingclassifier',\n",
       "                 GradientBoostingClassifier(n_estimators=1000))])</pre></div></div></div><div class=\"sk-serial\"><div class=\"sk-item sk-dashed-wrapped\"><div class=\"sk-label-container\"><div class=\"sk-label sk-toggleable\"><input class=\"sk-toggleable__control sk-hidden--visually\" id=\"6cbd5364-29c3-4f62-bbf2-b94b344e230c\" type=\"checkbox\" ><label class=\"sk-toggleable__label\" for=\"6cbd5364-29c3-4f62-bbf2-b94b344e230c\">columntransformer: ColumnTransformer</label><div class=\"sk-toggleable__content\"><pre>ColumnTransformer(transformers=[('one-hot-encoder',\n",
       "                                 OneHotEncoder(handle_unknown='ignore'),\n",
       "                                 ['Married/Single', 'House_Ownership',\n",
       "                                  'Car_Ownership', 'Profession', 'CITY',\n",
       "                                  'STATE']),\n",
       "                                ('standard-scaler', StandardScaler(),\n",
       "                                 ['Income', 'Age', 'Experience',\n",
       "                                  'CURRENT_JOB_YRS', 'CURRENT_HOUSE_YRS'])])</pre></div></div></div><div class=\"sk-parallel\"><div class=\"sk-parallel-item\"><div class=\"sk-item\"><div class=\"sk-label-container\"><div class=\"sk-label sk-toggleable\"><input class=\"sk-toggleable__control sk-hidden--visually\" id=\"69200fc1-69db-4edf-a88e-6c76cb8f4e99\" type=\"checkbox\" ><label class=\"sk-toggleable__label\" for=\"69200fc1-69db-4edf-a88e-6c76cb8f4e99\">one-hot-encoder</label><div class=\"sk-toggleable__content\"><pre>['Married/Single', 'House_Ownership', 'Car_Ownership', 'Profession', 'CITY', 'STATE']</pre></div></div></div><div class=\"sk-serial\"><div class=\"sk-item\"><div class=\"sk-estimator sk-toggleable\"><input class=\"sk-toggleable__control sk-hidden--visually\" id=\"c9079c49-b398-4840-9af2-7334a3a593c9\" type=\"checkbox\" ><label class=\"sk-toggleable__label\" for=\"c9079c49-b398-4840-9af2-7334a3a593c9\">OneHotEncoder</label><div class=\"sk-toggleable__content\"><pre>OneHotEncoder(handle_unknown='ignore')</pre></div></div></div></div></div></div><div class=\"sk-parallel-item\"><div class=\"sk-item\"><div class=\"sk-label-container\"><div class=\"sk-label sk-toggleable\"><input class=\"sk-toggleable__control sk-hidden--visually\" id=\"0ab71e26-bd6f-4a02-9abe-b0b6905b0b39\" type=\"checkbox\" ><label class=\"sk-toggleable__label\" for=\"0ab71e26-bd6f-4a02-9abe-b0b6905b0b39\">standard-scaler</label><div class=\"sk-toggleable__content\"><pre>['Income', 'Age', 'Experience', 'CURRENT_JOB_YRS', 'CURRENT_HOUSE_YRS']</pre></div></div></div><div class=\"sk-serial\"><div class=\"sk-item\"><div class=\"sk-estimator sk-toggleable\"><input class=\"sk-toggleable__control sk-hidden--visually\" id=\"7c61ecd5-05d7-44b3-b79a-0ddd1cb84578\" type=\"checkbox\" ><label class=\"sk-toggleable__label\" for=\"7c61ecd5-05d7-44b3-b79a-0ddd1cb84578\">StandardScaler</label><div class=\"sk-toggleable__content\"><pre>StandardScaler()</pre></div></div></div></div></div></div></div></div><div class=\"sk-item\"><div class=\"sk-estimator sk-toggleable\"><input class=\"sk-toggleable__control sk-hidden--visually\" id=\"e7557576-f576-47c7-9f2d-d847464c140b\" type=\"checkbox\" ><label class=\"sk-toggleable__label\" for=\"e7557576-f576-47c7-9f2d-d847464c140b\">GradientBoostingClassifier</label><div class=\"sk-toggleable__content\"><pre>GradientBoostingClassifier(n_estimators=1000)</pre></div></div></div></div></div></div></div>"
      ],
      "text/plain": [
       "Pipeline(steps=[('columntransformer',\n",
       "                 ColumnTransformer(transformers=[('one-hot-encoder',\n",
       "                                                  OneHotEncoder(handle_unknown='ignore'),\n",
       "                                                  ['Married/Single',\n",
       "                                                   'House_Ownership',\n",
       "                                                   'Car_Ownership',\n",
       "                                                   'Profession', 'CITY',\n",
       "                                                   'STATE']),\n",
       "                                                 ('standard-scaler',\n",
       "                                                  StandardScaler(),\n",
       "                                                  ['Income', 'Age',\n",
       "                                                   'Experience',\n",
       "                                                   'CURRENT_JOB_YRS',\n",
       "                                                   'CURRENT_HOUSE_YRS'])])),\n",
       "                ('gradientboostingclassifier',\n",
       "                 GradientBoostingClassifier(n_estimators=1000))])"
      ]
     },
     "execution_count": 5,
     "metadata": {},
     "output_type": "execute_result"
    }
   ],
   "source": [
    "pipeline = imbpipeline(steps = [['smote', SMOTE(random_state=42)],\n",
    "                                ['classifier', GradientBoostingClassifier(n_estimators=1000)]])\n",
    "\n",
    "model = make_pipeline(preprocessor, GradientBoostingClassifier(n_estimators=1000))\n",
    "set_config(display='diagram')\n",
    "model"
   ]
  },
  {
   "cell_type": "code",
   "execution_count": 8,
   "metadata": {},
   "outputs": [],
   "source": [
    "data_train, data_test, target_train, target_test = train_test_split(\n",
    "    data, target, test_size=0.20, random_state=42, shuffle=True)"
   ]
  },
  {
   "cell_type": "code",
   "execution_count": 9,
   "metadata": {},
   "outputs": [
    {
     "data": {
      "text/html": [
       "<style>#sk-24e76691-6664-44c7-8a48-c6641cf31709 {color: black;background-color: white;}#sk-24e76691-6664-44c7-8a48-c6641cf31709 pre{padding: 0;}#sk-24e76691-6664-44c7-8a48-c6641cf31709 div.sk-toggleable {background-color: white;}#sk-24e76691-6664-44c7-8a48-c6641cf31709 label.sk-toggleable__label {cursor: pointer;display: block;width: 100%;margin-bottom: 0;padding: 0.2em 0.3em;box-sizing: border-box;text-align: center;}#sk-24e76691-6664-44c7-8a48-c6641cf31709 div.sk-toggleable__content {max-height: 0;max-width: 0;overflow: hidden;text-align: left;background-color: #f0f8ff;}#sk-24e76691-6664-44c7-8a48-c6641cf31709 div.sk-toggleable__content pre {margin: 0.2em;color: black;border-radius: 0.25em;background-color: #f0f8ff;}#sk-24e76691-6664-44c7-8a48-c6641cf31709 input.sk-toggleable__control:checked~div.sk-toggleable__content {max-height: 200px;max-width: 100%;overflow: auto;}#sk-24e76691-6664-44c7-8a48-c6641cf31709 div.sk-estimator input.sk-toggleable__control:checked~label.sk-toggleable__label {background-color: #d4ebff;}#sk-24e76691-6664-44c7-8a48-c6641cf31709 div.sk-label input.sk-toggleable__control:checked~label.sk-toggleable__label {background-color: #d4ebff;}#sk-24e76691-6664-44c7-8a48-c6641cf31709 input.sk-hidden--visually {border: 0;clip: rect(1px 1px 1px 1px);clip: rect(1px, 1px, 1px, 1px);height: 1px;margin: -1px;overflow: hidden;padding: 0;position: absolute;width: 1px;}#sk-24e76691-6664-44c7-8a48-c6641cf31709 div.sk-estimator {font-family: monospace;background-color: #f0f8ff;margin: 0.25em 0.25em;border: 1px dotted black;border-radius: 0.25em;box-sizing: border-box;}#sk-24e76691-6664-44c7-8a48-c6641cf31709 div.sk-estimator:hover {background-color: #d4ebff;}#sk-24e76691-6664-44c7-8a48-c6641cf31709 div.sk-parallel-item::after {content: \"\";width: 100%;border-bottom: 1px solid gray;flex-grow: 1;}#sk-24e76691-6664-44c7-8a48-c6641cf31709 div.sk-label:hover label.sk-toggleable__label {background-color: #d4ebff;}#sk-24e76691-6664-44c7-8a48-c6641cf31709 div.sk-serial::before {content: \"\";position: absolute;border-left: 1px solid gray;box-sizing: border-box;top: 2em;bottom: 0;left: 50%;}#sk-24e76691-6664-44c7-8a48-c6641cf31709 div.sk-serial {display: flex;flex-direction: column;align-items: center;background-color: white;}#sk-24e76691-6664-44c7-8a48-c6641cf31709 div.sk-item {z-index: 1;}#sk-24e76691-6664-44c7-8a48-c6641cf31709 div.sk-parallel {display: flex;align-items: stretch;justify-content: center;background-color: white;}#sk-24e76691-6664-44c7-8a48-c6641cf31709 div.sk-parallel-item {display: flex;flex-direction: column;position: relative;background-color: white;}#sk-24e76691-6664-44c7-8a48-c6641cf31709 div.sk-parallel-item:first-child::after {align-self: flex-end;width: 50%;}#sk-24e76691-6664-44c7-8a48-c6641cf31709 div.sk-parallel-item:last-child::after {align-self: flex-start;width: 50%;}#sk-24e76691-6664-44c7-8a48-c6641cf31709 div.sk-parallel-item:only-child::after {width: 0;}#sk-24e76691-6664-44c7-8a48-c6641cf31709 div.sk-dashed-wrapped {border: 1px dashed gray;margin: 0.2em;box-sizing: border-box;padding-bottom: 0.1em;background-color: white;position: relative;}#sk-24e76691-6664-44c7-8a48-c6641cf31709 div.sk-label label {font-family: monospace;font-weight: bold;background-color: white;display: inline-block;line-height: 1.2em;}#sk-24e76691-6664-44c7-8a48-c6641cf31709 div.sk-label-container {position: relative;z-index: 2;text-align: center;}#sk-24e76691-6664-44c7-8a48-c6641cf31709 div.sk-container {display: inline-block;position: relative;}</style><div id=\"sk-24e76691-6664-44c7-8a48-c6641cf31709\" class\"sk-top-container\"><div class=\"sk-container\"><div class=\"sk-item sk-dashed-wrapped\"><div class=\"sk-label-container\"><div class=\"sk-label sk-toggleable\"><input class=\"sk-toggleable__control sk-hidden--visually\" id=\"cd99820e-0966-400f-a097-626f13a26e7b\" type=\"checkbox\" ><label class=\"sk-toggleable__label\" for=\"cd99820e-0966-400f-a097-626f13a26e7b\">Pipeline</label><div class=\"sk-toggleable__content\"><pre>Pipeline(steps=[('columntransformer',\n",
       "                 ColumnTransformer(transformers=[('one-hot-encoder',\n",
       "                                                  OneHotEncoder(handle_unknown='ignore'),\n",
       "                                                  ['Married/Single',\n",
       "                                                   'House_Ownership',\n",
       "                                                   'Car_Ownership',\n",
       "                                                   'Profession', 'CITY',\n",
       "                                                   'STATE']),\n",
       "                                                 ('standard-scaler',\n",
       "                                                  StandardScaler(),\n",
       "                                                  ['Income', 'Age',\n",
       "                                                   'Experience',\n",
       "                                                   'CURRENT_JOB_YRS',\n",
       "                                                   'CURRENT_HOUSE_YRS'])])),\n",
       "                ('gradientboostingclassifier',\n",
       "                 GradientBoostingClassifier(n_estimators=1000))])</pre></div></div></div><div class=\"sk-serial\"><div class=\"sk-item sk-dashed-wrapped\"><div class=\"sk-label-container\"><div class=\"sk-label sk-toggleable\"><input class=\"sk-toggleable__control sk-hidden--visually\" id=\"d0fd8d99-528c-4da7-83fe-d43027409774\" type=\"checkbox\" ><label class=\"sk-toggleable__label\" for=\"d0fd8d99-528c-4da7-83fe-d43027409774\">columntransformer: ColumnTransformer</label><div class=\"sk-toggleable__content\"><pre>ColumnTransformer(transformers=[('one-hot-encoder',\n",
       "                                 OneHotEncoder(handle_unknown='ignore'),\n",
       "                                 ['Married/Single', 'House_Ownership',\n",
       "                                  'Car_Ownership', 'Profession', 'CITY',\n",
       "                                  'STATE']),\n",
       "                                ('standard-scaler', StandardScaler(),\n",
       "                                 ['Income', 'Age', 'Experience',\n",
       "                                  'CURRENT_JOB_YRS', 'CURRENT_HOUSE_YRS'])])</pre></div></div></div><div class=\"sk-parallel\"><div class=\"sk-parallel-item\"><div class=\"sk-item\"><div class=\"sk-label-container\"><div class=\"sk-label sk-toggleable\"><input class=\"sk-toggleable__control sk-hidden--visually\" id=\"fdfbf5ed-8fdb-4edf-b972-63e52f27be10\" type=\"checkbox\" ><label class=\"sk-toggleable__label\" for=\"fdfbf5ed-8fdb-4edf-b972-63e52f27be10\">one-hot-encoder</label><div class=\"sk-toggleable__content\"><pre>['Married/Single', 'House_Ownership', 'Car_Ownership', 'Profession', 'CITY', 'STATE']</pre></div></div></div><div class=\"sk-serial\"><div class=\"sk-item\"><div class=\"sk-estimator sk-toggleable\"><input class=\"sk-toggleable__control sk-hidden--visually\" id=\"09a23c0c-451b-4dbe-9949-1f0d4042801b\" type=\"checkbox\" ><label class=\"sk-toggleable__label\" for=\"09a23c0c-451b-4dbe-9949-1f0d4042801b\">OneHotEncoder</label><div class=\"sk-toggleable__content\"><pre>OneHotEncoder(handle_unknown='ignore')</pre></div></div></div></div></div></div><div class=\"sk-parallel-item\"><div class=\"sk-item\"><div class=\"sk-label-container\"><div class=\"sk-label sk-toggleable\"><input class=\"sk-toggleable__control sk-hidden--visually\" id=\"108321d4-f90e-4527-9e00-0606d34674b5\" type=\"checkbox\" ><label class=\"sk-toggleable__label\" for=\"108321d4-f90e-4527-9e00-0606d34674b5\">standard-scaler</label><div class=\"sk-toggleable__content\"><pre>['Income', 'Age', 'Experience', 'CURRENT_JOB_YRS', 'CURRENT_HOUSE_YRS']</pre></div></div></div><div class=\"sk-serial\"><div class=\"sk-item\"><div class=\"sk-estimator sk-toggleable\"><input class=\"sk-toggleable__control sk-hidden--visually\" id=\"1a30d083-04db-416d-9214-0f9acd84fff5\" type=\"checkbox\" ><label class=\"sk-toggleable__label\" for=\"1a30d083-04db-416d-9214-0f9acd84fff5\">StandardScaler</label><div class=\"sk-toggleable__content\"><pre>StandardScaler()</pre></div></div></div></div></div></div></div></div><div class=\"sk-item\"><div class=\"sk-estimator sk-toggleable\"><input class=\"sk-toggleable__control sk-hidden--visually\" id=\"e863ecd4-28e1-489b-8160-6a5bfc500c2b\" type=\"checkbox\" ><label class=\"sk-toggleable__label\" for=\"e863ecd4-28e1-489b-8160-6a5bfc500c2b\">GradientBoostingClassifier</label><div class=\"sk-toggleable__content\"><pre>GradientBoostingClassifier(n_estimators=1000)</pre></div></div></div></div></div></div></div>"
      ],
      "text/plain": [
       "Pipeline(steps=[('columntransformer',\n",
       "                 ColumnTransformer(transformers=[('one-hot-encoder',\n",
       "                                                  OneHotEncoder(handle_unknown='ignore'),\n",
       "                                                  ['Married/Single',\n",
       "                                                   'House_Ownership',\n",
       "                                                   'Car_Ownership',\n",
       "                                                   'Profession', 'CITY',\n",
       "                                                   'STATE']),\n",
       "                                                 ('standard-scaler',\n",
       "                                                  StandardScaler(),\n",
       "                                                  ['Income', 'Age',\n",
       "                                                   'Experience',\n",
       "                                                   'CURRENT_JOB_YRS',\n",
       "                                                   'CURRENT_HOUSE_YRS'])])),\n",
       "                ('gradientboostingclassifier',\n",
       "                 GradientBoostingClassifier(n_estimators=1000))])"
      ]
     },
     "execution_count": 9,
     "metadata": {},
     "output_type": "execute_result"
    }
   ],
   "source": [
    "\n",
    "model.fit(data_train, target_train)"
   ]
  },
  {
   "cell_type": "code",
   "execution_count": 11,
   "metadata": {},
   "outputs": [
    {
     "data": {
      "text/plain": [
       "0.8796626984126984"
      ]
     },
     "execution_count": 11,
     "metadata": {},
     "output_type": "execute_result"
    }
   ],
   "source": [
    "model.predict(data_test)\n",
    "model.score(data_test, target_test)"
   ]
  },
  {
   "cell_type": "code",
   "execution_count": 12,
   "metadata": {},
   "outputs": [],
   "source": [
    "pkl_filename = \"/Users/stephaniekim/downloads/credit_risk.pkl\"\n",
    "with open(pkl_filename, 'wb') as file:\n",
    "    pickle.dump(model, file)"
   ]
  },
  {
   "cell_type": "code",
   "execution_count": 13,
   "metadata": {},
   "outputs": [
    {
     "data": {
      "text/plain": [
       "{'fit_time': array([220.45415616, 209.9649682 , 194.72522593, 211.92368317,\n",
       "        188.86522508]),\n",
       " 'score_time': array([1.45894814, 1.19622874, 1.08824015, 1.13765812, 1.01507211]),\n",
       " 'test_score': array([0.88136905, 0.88176587, 0.88246032, 0.88031746, 0.8703373 ])}"
      ]
     },
     "execution_count": 13,
     "metadata": {},
     "output_type": "execute_result"
    }
   ],
   "source": [
    "cv_results = cross_validate(model, data, target, cv=5)\n",
    "cv_results"
   ]
  },
  {
   "cell_type": "code",
   "execution_count": 15,
   "metadata": {},
   "outputs": [
    {
     "data": {
      "text/plain": [
       "array([0, 0, 0, ..., 0, 0, 0])"
      ]
     },
     "execution_count": 15,
     "metadata": {},
     "output_type": "execute_result"
    }
   ],
   "source": [
    "model.predict(holdout_data)"
   ]
  },
  {
   "cell_type": "code",
   "execution_count": 10,
   "metadata": {},
   "outputs": [
    {
     "data": {
      "text/html": [
       "<div>\n",
       "<style scoped>\n",
       "    .dataframe tbody tr th:only-of-type {\n",
       "        vertical-align: middle;\n",
       "    }\n",
       "\n",
       "    .dataframe tbody tr th {\n",
       "        vertical-align: top;\n",
       "    }\n",
       "\n",
       "    .dataframe thead th {\n",
       "        text-align: right;\n",
       "    }\n",
       "</style>\n",
       "<table border=\"1\" class=\"dataframe\">\n",
       "  <thead>\n",
       "    <tr style=\"text-align: right;\">\n",
       "      <th></th>\n",
       "      <th>Income</th>\n",
       "      <th>Age</th>\n",
       "      <th>Experience</th>\n",
       "      <th>Married/Single</th>\n",
       "      <th>House_Ownership</th>\n",
       "      <th>Car_Ownership</th>\n",
       "      <th>Profession</th>\n",
       "      <th>CITY</th>\n",
       "      <th>STATE</th>\n",
       "      <th>CURRENT_JOB_YRS</th>\n",
       "      <th>CURRENT_HOUSE_YRS</th>\n",
       "    </tr>\n",
       "  </thead>\n",
       "  <tbody>\n",
       "    <tr>\n",
       "      <th>0</th>\n",
       "      <td>7393090</td>\n",
       "      <td>59</td>\n",
       "      <td>19</td>\n",
       "      <td>single</td>\n",
       "      <td>rented</td>\n",
       "      <td>no</td>\n",
       "      <td>Geologist</td>\n",
       "      <td>Malda</td>\n",
       "      <td>West Bengal</td>\n",
       "      <td>4</td>\n",
       "      <td>13</td>\n",
       "    </tr>\n",
       "    <tr>\n",
       "      <th>1</th>\n",
       "      <td>1215004</td>\n",
       "      <td>25</td>\n",
       "      <td>5</td>\n",
       "      <td>single</td>\n",
       "      <td>rented</td>\n",
       "      <td>no</td>\n",
       "      <td>Firefighter</td>\n",
       "      <td>Jalna</td>\n",
       "      <td>Maharashtra</td>\n",
       "      <td>5</td>\n",
       "      <td>10</td>\n",
       "    </tr>\n",
       "    <tr>\n",
       "      <th>2</th>\n",
       "      <td>8901342</td>\n",
       "      <td>50</td>\n",
       "      <td>12</td>\n",
       "      <td>single</td>\n",
       "      <td>rented</td>\n",
       "      <td>no</td>\n",
       "      <td>Lawyer</td>\n",
       "      <td>Thane</td>\n",
       "      <td>Maharashtra</td>\n",
       "      <td>9</td>\n",
       "      <td>14</td>\n",
       "    </tr>\n",
       "    <tr>\n",
       "      <th>3</th>\n",
       "      <td>1944421</td>\n",
       "      <td>49</td>\n",
       "      <td>9</td>\n",
       "      <td>married</td>\n",
       "      <td>rented</td>\n",
       "      <td>yes</td>\n",
       "      <td>Analyst</td>\n",
       "      <td>Latur</td>\n",
       "      <td>Maharashtra</td>\n",
       "      <td>3</td>\n",
       "      <td>12</td>\n",
       "    </tr>\n",
       "    <tr>\n",
       "      <th>4</th>\n",
       "      <td>13429</td>\n",
       "      <td>25</td>\n",
       "      <td>18</td>\n",
       "      <td>single</td>\n",
       "      <td>rented</td>\n",
       "      <td>yes</td>\n",
       "      <td>Comedian</td>\n",
       "      <td>Berhampore</td>\n",
       "      <td>West Bengal</td>\n",
       "      <td>13</td>\n",
       "      <td>11</td>\n",
       "    </tr>\n",
       "    <tr>\n",
       "      <th>...</th>\n",
       "      <td>...</td>\n",
       "      <td>...</td>\n",
       "      <td>...</td>\n",
       "      <td>...</td>\n",
       "      <td>...</td>\n",
       "      <td>...</td>\n",
       "      <td>...</td>\n",
       "      <td>...</td>\n",
       "      <td>...</td>\n",
       "      <td>...</td>\n",
       "      <td>...</td>\n",
       "    </tr>\n",
       "    <tr>\n",
       "      <th>27995</th>\n",
       "      <td>9955481</td>\n",
       "      <td>57</td>\n",
       "      <td>13</td>\n",
       "      <td>single</td>\n",
       "      <td>rented</td>\n",
       "      <td>no</td>\n",
       "      <td>Statistician</td>\n",
       "      <td>Eluru[25]</td>\n",
       "      <td>Andhra Pradesh</td>\n",
       "      <td>5</td>\n",
       "      <td>10</td>\n",
       "    </tr>\n",
       "    <tr>\n",
       "      <th>27996</th>\n",
       "      <td>2917765</td>\n",
       "      <td>47</td>\n",
       "      <td>9</td>\n",
       "      <td>single</td>\n",
       "      <td>rented</td>\n",
       "      <td>no</td>\n",
       "      <td>Technical writer</td>\n",
       "      <td>Ratlam</td>\n",
       "      <td>Madhya Pradesh</td>\n",
       "      <td>9</td>\n",
       "      <td>14</td>\n",
       "    </tr>\n",
       "    <tr>\n",
       "      <th>27997</th>\n",
       "      <td>8082415</td>\n",
       "      <td>24</td>\n",
       "      <td>5</td>\n",
       "      <td>single</td>\n",
       "      <td>rented</td>\n",
       "      <td>no</td>\n",
       "      <td>Lawyer</td>\n",
       "      <td>Mira-Bhayandar</td>\n",
       "      <td>Maharashtra</td>\n",
       "      <td>4</td>\n",
       "      <td>13</td>\n",
       "    </tr>\n",
       "    <tr>\n",
       "      <th>27998</th>\n",
       "      <td>9474180</td>\n",
       "      <td>51</td>\n",
       "      <td>13</td>\n",
       "      <td>single</td>\n",
       "      <td>rented</td>\n",
       "      <td>yes</td>\n",
       "      <td>Chartered Accountant</td>\n",
       "      <td>Bhilai</td>\n",
       "      <td>Chhattisgarh</td>\n",
       "      <td>13</td>\n",
       "      <td>14</td>\n",
       "    </tr>\n",
       "    <tr>\n",
       "      <th>27999</th>\n",
       "      <td>9250350</td>\n",
       "      <td>42</td>\n",
       "      <td>9</td>\n",
       "      <td>single</td>\n",
       "      <td>rented</td>\n",
       "      <td>no</td>\n",
       "      <td>Chef</td>\n",
       "      <td>Navi Mumbai</td>\n",
       "      <td>Maharashtra</td>\n",
       "      <td>4</td>\n",
       "      <td>10</td>\n",
       "    </tr>\n",
       "  </tbody>\n",
       "</table>\n",
       "<p>28000 rows × 11 columns</p>\n",
       "</div>"
      ],
      "text/plain": [
       "        Income  Age  Experience Married/Single House_Ownership Car_Ownership  \\\n",
       "0      7393090   59          19         single          rented            no   \n",
       "1      1215004   25           5         single          rented            no   \n",
       "2      8901342   50          12         single          rented            no   \n",
       "3      1944421   49           9        married          rented           yes   \n",
       "4        13429   25          18         single          rented           yes   \n",
       "...        ...  ...         ...            ...             ...           ...   \n",
       "27995  9955481   57          13         single          rented            no   \n",
       "27996  2917765   47           9         single          rented            no   \n",
       "27997  8082415   24           5         single          rented            no   \n",
       "27998  9474180   51          13         single          rented           yes   \n",
       "27999  9250350   42           9         single          rented            no   \n",
       "\n",
       "                 Profession            CITY           STATE  CURRENT_JOB_YRS  \\\n",
       "0                 Geologist           Malda     West Bengal                4   \n",
       "1               Firefighter           Jalna     Maharashtra                5   \n",
       "2                    Lawyer           Thane     Maharashtra                9   \n",
       "3                   Analyst           Latur     Maharashtra                3   \n",
       "4                  Comedian      Berhampore     West Bengal               13   \n",
       "...                     ...             ...             ...              ...   \n",
       "27995          Statistician       Eluru[25]  Andhra Pradesh                5   \n",
       "27996      Technical writer          Ratlam  Madhya Pradesh                9   \n",
       "27997                Lawyer  Mira-Bhayandar     Maharashtra                4   \n",
       "27998  Chartered Accountant          Bhilai    Chhattisgarh               13   \n",
       "27999                  Chef     Navi Mumbai     Maharashtra                4   \n",
       "\n",
       "       CURRENT_HOUSE_YRS  \n",
       "0                     13  \n",
       "1                     10  \n",
       "2                     14  \n",
       "3                     12  \n",
       "4                     11  \n",
       "...                  ...  \n",
       "27995                 10  \n",
       "27996                 14  \n",
       "27997                 13  \n",
       "27998                 14  \n",
       "27999                 10  \n",
       "\n",
       "[28000 rows x 11 columns]"
      ]
     },
     "execution_count": 10,
     "metadata": {},
     "output_type": "execute_result"
    }
   ],
   "source": [
    "holdout_data"
   ]
  },
  {
   "cell_type": "code",
   "execution_count": null,
   "metadata": {},
   "outputs": [],
   "source": []
  }
 ],
 "metadata": {
  "kernelspec": {
   "display_name": "Python 3 (ipykernel)",
   "language": "python",
   "name": "python3"
  },
  "language_info": {
   "codemirror_mode": {
    "name": "ipython",
    "version": 3
   },
   "file_extension": ".py",
   "mimetype": "text/x-python",
   "name": "python",
   "nbconvert_exporter": "python",
   "pygments_lexer": "ipython3",
   "version": "3.7.4"
  }
 },
 "nbformat": 4,
 "nbformat_minor": 4
}
